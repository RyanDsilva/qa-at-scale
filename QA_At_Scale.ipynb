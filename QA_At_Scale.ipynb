{
  "nbformat": 4,
  "nbformat_minor": 0,
  "metadata": {
    "colab": {
      "name": "QA_At_Scale.ipynb",
      "provenance": [],
      "collapsed_sections": []
    },
    "kernelspec": {
      "name": "python3",
      "display_name": "Python 3"
    },
    "accelerator": "GPU"
  },
  "cells": [
    {
      "cell_type": "code",
      "metadata": {
        "id": "zQHO3rx8H8QW",
        "colab_type": "code",
        "colab": {}
      },
      "source": [
        "!pip install farm-haystack --quiet"
      ],
      "execution_count": null,
      "outputs": []
    },
    {
      "cell_type": "code",
      "metadata": {
        "id": "JHLtpvUaIVvl",
        "colab_type": "code",
        "colab": {}
      },
      "source": [
        "from haystack import Finder\n",
        "from haystack.reader.farm import FARMReader"
      ],
      "execution_count": 2,
      "outputs": []
    },
    {
      "cell_type": "code",
      "metadata": {
        "id": "zyzcqjdkIZhT",
        "colab_type": "code",
        "colab": {}
      },
      "source": [
        "! wget https://artifacts.elastic.co/downloads/elasticsearch/elasticsearch-7.6.2-linux-x86_64.tar.gz -q\n",
        "! tar -xzf elasticsearch-7.6.2-linux-x86_64.tar.gz\n",
        "! chown -R daemon:daemon elasticsearch-7.6.2\n",
        "\n",
        "import os\n",
        "from subprocess import Popen, PIPE, STDOUT\n",
        "es_server = Popen(['elasticsearch-7.6.2/bin/elasticsearch'],\n",
        "                   stdout=PIPE, stderr=STDOUT,\n",
        "                   preexec_fn=lambda: os.setuid(1)\n",
        "                  )\n",
        "# wait until ElasticSearch has started\n",
        "! sleep 30"
      ],
      "execution_count": 3,
      "outputs": []
    },
    {
      "cell_type": "code",
      "metadata": {
        "id": "KvtiPI6SIjBB",
        "colab_type": "code",
        "colab": {
          "base_uri": "https://localhost:8080/",
          "height": 34
        },
        "outputId": "6ff09a23-a6d1-4024-c36c-662914a1ed21"
      },
      "source": [
        "from haystack.database.elasticsearch import ElasticsearchDocumentStore\n",
        "document_store = ElasticsearchDocumentStore(host=\"localhost\", username=\"\", password=\"\", index=\"document\")"
      ],
      "execution_count": 4,
      "outputs": [
        {
          "output_type": "stream",
          "text": [
            "07/17/2020 11:59:15 - INFO - elasticsearch -   PUT http://localhost:9200/document [status:200 request:0.549s]\n"
          ],
          "name": "stderr"
        }
      ]
    },
    {
      "cell_type": "code",
      "metadata": {
        "id": "oG8SwBA8JMz8",
        "colab_type": "code",
        "colab": {}
      },
      "source": [
        "data_dir=\"/content/drive/My Drive/arXiv\""
      ],
      "execution_count": 5,
      "outputs": []
    },
    {
      "cell_type": "code",
      "metadata": {
        "id": "gDbjrMfoJgqF",
        "colab_type": "code",
        "colab": {}
      },
      "source": [
        "import json\n",
        "import ast\n",
        "\n",
        "def read_json_data(path):\n",
        "  with open(path) as f:\n",
        "    data = json.load(f)\n",
        "    f.close()\n",
        "    return data\n",
        "\n",
        "def create_data_dicts(json_data):\n",
        "  dicts = []\n",
        "  for item in json_data:\n",
        "    entry = {}\n",
        "    entry['name'] = item['title']\n",
        "    entry['text'] = item['summary']\n",
        "    entry['url'] = ast.literal_eval(item['link'])[1]['href']\n",
        "    dicts.append(entry)\n",
        "  return dicts"
      ],
      "execution_count": 6,
      "outputs": []
    },
    {
      "cell_type": "code",
      "metadata": {
        "id": "WYInjsS1KmQp",
        "colab_type": "code",
        "colab": {
          "base_uri": "https://localhost:8080/",
          "height": 190
        },
        "outputId": "5d68e3a3-46c8-4f0c-8265-41ca2160898c"
      },
      "source": [
        "jsonData = read_json_data(os.path.join(data_dir,\"arxivData.json\"))\n",
        "esData = create_data_dicts(jsonData)\n",
        "esData[:3]"
      ],
      "execution_count": 7,
      "outputs": [
        {
          "output_type": "execute_result",
          "data": {
            "text/plain": [
              "[{'name': 'Dual Recurrent Attention Units for Visual Question Answering',\n",
              "  'text': 'We propose an architecture for VQA which utilizes recurrent layers to\\ngenerate visual and textual attention. The memory characteristic of the\\nproposed recurrent attention units offers a rich joint embedding of visual and\\ntextual features and enables the model to reason relations between several\\nparts of the image and question. Our single model outperforms the first place\\nwinner on the VQA 1.0 dataset, performs within margin to the current\\nstate-of-the-art ensemble model. We also experiment with replacing attention\\nmechanisms in other state-of-the-art models with our implementation and show\\nincreased accuracy. In both cases, our recurrent attention mechanism improves\\nperformance in tasks requiring sequential or relational reasoning on the VQA\\ndataset.',\n",
              "  'url': 'http://arxiv.org/pdf/1802.00209v1'},\n",
              " {'name': 'Sequential Short-Text Classification with Recurrent and Convolutional\\n  Neural Networks',\n",
              "  'text': 'Recent approaches based on artificial neural networks (ANNs) have shown\\npromising results for short-text classification. However, many short texts\\noccur in sequences (e.g., sentences in a document or utterances in a dialog),\\nand most existing ANN-based systems do not leverage the preceding short texts\\nwhen classifying a subsequent one. In this work, we present a model based on\\nrecurrent neural networks and convolutional neural networks that incorporates\\nthe preceding short texts. Our model achieves state-of-the-art results on three\\ndifferent datasets for dialog act prediction.',\n",
              "  'url': 'http://arxiv.org/pdf/1603.03827v1'},\n",
              " {'name': 'Multiresolution Recurrent Neural Networks: An Application to Dialogue\\n  Response Generation',\n",
              "  'text': 'We introduce the multiresolution recurrent neural network, which extends the\\nsequence-to-sequence framework to model natural language generation as two\\nparallel discrete stochastic processes: a sequence of high-level coarse tokens,\\nand a sequence of natural language tokens. There are many ways to estimate or\\nlearn the high-level coarse tokens, but we argue that a simple extraction\\nprocedure is sufficient to capture a wealth of high-level discourse semantics.\\nSuch procedure allows training the multiresolution recurrent neural network by\\nmaximizing the exact joint log-likelihood over both sequences. In contrast to\\nthe standard log- likelihood objective w.r.t. natural language tokens (word\\nperplexity), optimizing the joint log-likelihood biases the model towards\\nmodeling high-level abstractions. We apply the proposed model to the task of\\ndialogue response generation in two challenging domains: the Ubuntu technical\\nsupport domain, and Twitter conversations. On Ubuntu, the model outperforms\\ncompeting approaches by a substantial margin, achieving state-of-the-art\\nresults according to both automatic evaluation metrics and a human evaluation\\nstudy. On Twitter, the model appears to generate more relevant and on-topic\\nresponses according to automatic evaluation metrics. Finally, our experiments\\ndemonstrate that the proposed model is more adept at overcoming the sparsity of\\nnatural language and is better able to capture long-term structure.',\n",
              "  'url': 'http://arxiv.org/pdf/1606.00776v2'}]"
            ]
          },
          "metadata": {
            "tags": []
          },
          "execution_count": 7
        }
      ]
    },
    {
      "cell_type": "code",
      "metadata": {
        "id": "tRNLQrMMOXY6",
        "colab_type": "code",
        "colab": {}
      },
      "source": [
        "document_store.write_documents(esData)"
      ],
      "execution_count": null,
      "outputs": []
    },
    {
      "cell_type": "code",
      "metadata": {
        "id": "4Yq9gE56OjR8",
        "colab_type": "code",
        "colab": {}
      },
      "source": [
        "from haystack.retriever.sparse import ElasticsearchRetriever\n",
        "retriever = ElasticsearchRetriever(document_store=document_store)"
      ],
      "execution_count": 9,
      "outputs": []
    },
    {
      "cell_type": "code",
      "metadata": {
        "id": "-pG3owhOOnmw",
        "colab_type": "code",
        "colab": {}
      },
      "source": [
        "reader = FARMReader(model_name_or_path=\"deepset/roberta-base-squad2\", use_gpu=True)"
      ],
      "execution_count": null,
      "outputs": []
    },
    {
      "cell_type": "code",
      "metadata": {
        "id": "hF2qsQ2MOxIa",
        "colab_type": "code",
        "colab": {}
      },
      "source": [
        "finder = Finder(reader, retriever)"
      ],
      "execution_count": 11,
      "outputs": []
    },
    {
      "cell_type": "code",
      "metadata": {
        "id": "faRV8BxMO2Ps",
        "colab_type": "code",
        "colab": {
          "base_uri": "https://localhost:8080/",
          "height": 343
        },
        "outputId": "3102dc0a-4458-4a10-d801-8eda6b10a189"
      },
      "source": [
        "prediction = finder.get_answers(question=\"What are the ways to perform Named Entity Recognition?\", top_k_retriever=15, top_k_reader=3)"
      ],
      "execution_count": 17,
      "outputs": [
        {
          "output_type": "stream",
          "text": [
            "07/17/2020 12:02:08 - INFO - elasticsearch -   POST http://localhost:9200/document/_search [status:200 request:0.029s]\n",
            "07/17/2020 12:02:08 - INFO - haystack.retriever.sparse -   Got 15 candidates from retriever\n",
            "07/17/2020 12:02:08 - INFO - haystack.finder -   Reader is looking for detailed answer in 13905 chars ...\n",
            "Inferencing Samples: 100%|██████████| 1/1 [00:00<00:00, 22.35 Batches/s]\n",
            "Inferencing Samples: 100%|██████████| 1/1 [00:00<00:00, 30.46 Batches/s]\n",
            "Inferencing Samples: 100%|██████████| 1/1 [00:00<00:00, 25.29 Batches/s]\n",
            "Inferencing Samples: 100%|██████████| 1/1 [00:00<00:00, 34.71 Batches/s]\n",
            "Inferencing Samples: 100%|██████████| 1/1 [00:00<00:00, 27.57 Batches/s]\n",
            "Inferencing Samples: 100%|██████████| 1/1 [00:00<00:00, 26.38 Batches/s]\n",
            "Inferencing Samples: 100%|██████████| 1/1 [00:00<00:00,  8.40 Batches/s]\n",
            "Inferencing Samples: 100%|██████████| 1/1 [00:00<00:00, 23.04 Batches/s]\n",
            "Inferencing Samples: 100%|██████████| 1/1 [00:00<00:00, 26.52 Batches/s]\n",
            "Inferencing Samples: 100%|██████████| 1/1 [00:00<00:00, 25.83 Batches/s]\n",
            "Inferencing Samples: 100%|██████████| 1/1 [00:00<00:00,  9.06 Batches/s]\n",
            "Inferencing Samples: 100%|██████████| 1/1 [00:00<00:00, 32.38 Batches/s]\n",
            "Inferencing Samples: 100%|██████████| 1/1 [00:00<00:00, 28.37 Batches/s]\n",
            "Inferencing Samples: 100%|██████████| 1/1 [00:00<00:00, 32.46 Batches/s]\n",
            "Inferencing Samples: 100%|██████████| 1/1 [00:00<00:00, 47.89 Batches/s]\n"
          ],
          "name": "stderr"
        }
      ]
    },
    {
      "cell_type": "code",
      "metadata": {
        "id": "RrRdsRq-O-nr",
        "colab_type": "code",
        "colab": {}
      },
      "source": [
        "def extract_info_from_predictions(answers):\n",
        "  results = []\n",
        "  predictions = answers['answers']\n",
        "  for pred in predictions:\n",
        "    res = {}\n",
        "    res['answer'] = pred['answer']\n",
        "    res['score'] = pred['score']\n",
        "    res['context'] = pred['context']\n",
        "    res['paper'] = pred['meta']\n",
        "    results.append(res)\n",
        "  return results"
      ],
      "execution_count": 13,
      "outputs": []
    },
    {
      "cell_type": "code",
      "metadata": {
        "id": "MBCHeOYkQXjF",
        "colab_type": "code",
        "colab": {
          "base_uri": "https://localhost:8080/",
          "height": 510
        },
        "outputId": "089f38b8-e152-44ad-b07a-b1d49042bd8c"
      },
      "source": [
        "import pprint\n",
        "results = extract_info_from_predictions(prediction)\n",
        "pp = pprint.PrettyPrinter(indent=2)\n",
        "pp.pprint(results)"
      ],
      "execution_count": 18,
      "outputs": [
        {
          "output_type": "stream",
          "text": [
            "[ { 'answer': 'rule-based and machine learning approaches',\n",
            "    'context': 'h particular reference to\\n'\n",
            "               'Assamese. There are various rule-based and machine learning '\n",
            "               'approaches\\n'\n",
            "               'available for Named Entity Recognition. At the very f',\n",
            "    'paper': { 'name': 'A Survey of Named Entity Recognition in Assamese and '\n",
            "                       'other Indian\\n'\n",
            "                       '  Languages',\n",
            "               'url': 'http://arxiv.org/pdf/1407.2918v1'},\n",
            "    'score': 14.592899322509766},\n",
            "  { 'answer': 'Alchemy, Zemanta\\nand Rembrandt',\n",
            "    'context': 'ognition (NER) for content written in Portuguese. These are '\n",
            "               'Alchemy, Zemanta\\n'\n",
            "               'and Rembrandt. Evaluation of the efficacy of the entity '\n",
            "               'extraction method',\n",
            "    'paper': { 'name': 'PAMPO: using pattern matching and pos-tagging for '\n",
            "                       'effective Named\\n'\n",
            "                       '  Entities recognition in Portuguese',\n",
            "               'url': 'http://arxiv.org/pdf/1612.09535v1'},\n",
            "    'score': 13.296525001525879},\n",
            "  { 'answer': 'ANNs need to be trained on a large labeled dataset',\n",
            "    'context': 'ion (NER). In order to achieve high\\n'\n",
            "               'performances, ANNs need to be trained on a large labeled '\n",
            "               'dataset. However,\\n'\n",
            "               'labels might be difficult to obtain for',\n",
            "    'paper': { 'name': 'Transfer Learning for Named-Entity Recognition with '\n",
            "                       'Neural Networks',\n",
            "               'url': 'http://arxiv.org/pdf/1705.06273v1'},\n",
            "    'score': 8.551121711730957}]\n"
          ],
          "name": "stdout"
        }
      ]
    }
  ]
}